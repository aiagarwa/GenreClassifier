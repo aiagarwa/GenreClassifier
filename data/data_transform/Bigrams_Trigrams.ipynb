{
 "cells": [
  {
   "cell_type": "code",
   "execution_count": 1,
   "metadata": {},
   "outputs": [],
   "source": [
    "import pandas as pd\n",
    "from sklearn.feature_extraction.text import CountVectorizer, TfidfVectorizer"
   ]
  },
  {
   "cell_type": "code",
   "execution_count": 2,
   "metadata": {},
   "outputs": [],
   "source": [
    "from nltk.collocations import BigramCollocationFinder as biagram_collocation\n",
    "from nltk.metrics import BigramAssocMeasures\n",
    "from nltk import corpus\n",
    "import nltk\n",
    "from statistics import mean"
   ]
  },
  {
   "cell_type": "code",
   "execution_count": 3,
   "metadata": {},
   "outputs": [
    {
     "data": {
      "text/html": [
       "<div>\n",
       "<style scoped>\n",
       "    .dataframe tbody tr th:only-of-type {\n",
       "        vertical-align: middle;\n",
       "    }\n",
       "\n",
       "    .dataframe tbody tr th {\n",
       "        vertical-align: top;\n",
       "    }\n",
       "\n",
       "    .dataframe thead th {\n",
       "        text-align: right;\n",
       "    }\n",
       "</style>\n",
       "<table border=\"1\" class=\"dataframe\">\n",
       "  <thead>\n",
       "    <tr style=\"text-align: right;\">\n",
       "      <th></th>\n",
       "      <th>Title</th>\n",
       "      <th>Artist</th>\n",
       "      <th>Featuring</th>\n",
       "      <th>Featured_Artist</th>\n",
       "      <th>Lyrics</th>\n",
       "      <th>Tags</th>\n",
       "      <th>Genre</th>\n",
       "    </tr>\n",
       "  </thead>\n",
       "  <tbody>\n",
       "    <tr>\n",
       "      <th>0</th>\n",
       "      <td>Bridge Over Troubled Water</td>\n",
       "      <td>Simon &amp; Garfunkel</td>\n",
       "      <td>0</td>\n",
       "      <td>Simon &amp; Garfunkel</td>\n",
       "      <td>youre weary feel small tear eye dry im side ti...</td>\n",
       "      <td>folk,classic rock,oldies</td>\n",
       "      <td>rock</td>\n",
       "    </tr>\n",
       "    <tr>\n",
       "      <th>1</th>\n",
       "      <td>American Woman</td>\n",
       "      <td>The Guess Who</td>\n",
       "      <td>0</td>\n",
       "      <td>The Guess Who</td>\n",
       "      <td>american woman gon na mess mind american woman...</td>\n",
       "      <td>classic rock,70s,rock</td>\n",
       "      <td>rock</td>\n",
       "    </tr>\n",
       "    <tr>\n",
       "      <th>2</th>\n",
       "      <td>War</td>\n",
       "      <td>Edwin Starr</td>\n",
       "      <td>0</td>\n",
       "      <td>Edwin Starr</td>\n",
       "      <td>war huh yeah ! good absolutely nothing uhuh wa...</td>\n",
       "      <td>r&amp;b,r&amp;b,motown</td>\n",
       "      <td>r&amp;b</td>\n",
       "    </tr>\n",
       "    <tr>\n",
       "      <th>3</th>\n",
       "      <td>Ain't No Mountain High Enough</td>\n",
       "      <td>Diana Ross</td>\n",
       "      <td>0</td>\n",
       "      <td>Diana Ross</td>\n",
       "      <td>need call matter matter far call name ill hurr...</td>\n",
       "      <td>r&amp;b,motown,70s</td>\n",
       "      <td>r&amp;b</td>\n",
       "    </tr>\n",
       "    <tr>\n",
       "      <th>4</th>\n",
       "      <td>I'll Be There</td>\n",
       "      <td>The Jackson 5</td>\n",
       "      <td>0</td>\n",
       "      <td>The Jackson 5</td>\n",
       "      <td>must make pact must bring salvation back love ...</td>\n",
       "      <td>motown,r&amp;b,70s</td>\n",
       "      <td>r&amp;b</td>\n",
       "    </tr>\n",
       "  </tbody>\n",
       "</table>\n",
       "</div>"
      ],
      "text/plain": [
       "                           Title             Artist  Featuring  \\\n",
       "0     Bridge Over Troubled Water  Simon & Garfunkel          0   \n",
       "1                 American Woman      The Guess Who          0   \n",
       "2                            War        Edwin Starr          0   \n",
       "3  Ain't No Mountain High Enough         Diana Ross          0   \n",
       "4                  I'll Be There      The Jackson 5          0   \n",
       "\n",
       "     Featured_Artist                                             Lyrics  \\\n",
       "0  Simon & Garfunkel  youre weary feel small tear eye dry im side ti...   \n",
       "1      The Guess Who  american woman gon na mess mind american woman...   \n",
       "2        Edwin Starr  war huh yeah ! good absolutely nothing uhuh wa...   \n",
       "3         Diana Ross  need call matter matter far call name ill hurr...   \n",
       "4      The Jackson 5  must make pact must bring salvation back love ...   \n",
       "\n",
       "                       Tags Genre  \n",
       "0  folk,classic rock,oldies  rock  \n",
       "1     classic rock,70s,rock  rock  \n",
       "2            r&b,r&b,motown   r&b  \n",
       "3            r&b,motown,70s   r&b  \n",
       "4            motown,r&b,70s   r&b  "
      ]
     },
     "execution_count": 3,
     "metadata": {},
     "output_type": "execute_result"
    }
   ],
   "source": [
    "df = pd.read_csv('../preprocessed_dataset.csv')\n",
    "df.head()"
   ]
  },
  {
   "cell_type": "code",
   "execution_count": 5,
   "metadata": {},
   "outputs": [],
   "source": [
    "def trigrams_tfidf(txt1):\n",
    "    vectorizer = TfidfVectorizer(ngram_range = (3,3))\n",
    "    X2 = vectorizer.fit_transform(txt1)\n",
    "    features = (vectorizer.get_feature_names())\n",
    "    scores = (X2.toarray())\n",
    "    return features,scores,X2"
   ]
  },
  {
   "cell_type": "code",
   "execution_count": 6,
   "metadata": {},
   "outputs": [],
   "source": [
    "def bigrams_tfidf(txt1):\n",
    "    vectorizer = TfidfVectorizer(ngram_range = (2,2))\n",
    "    X2 = vectorizer.fit_transform(txt1)\n",
    "    features = (vectorizer.get_feature_names())\n",
    "    scores = (X2.toarray())\n",
    "    return features,scores,X2"
   ]
  },
  {
   "cell_type": "code",
   "execution_count": 7,
   "metadata": {},
   "outputs": [],
   "source": [
    "features,scores,X2=trigrams_tfidf(df[\"Lyrics\"])"
   ]
  },
  {
   "cell_type": "code",
   "execution_count": 8,
   "metadata": {},
   "outputs": [],
   "source": [
    "features_bigram,scores_bigram,X2_bigrams=bigrams_tfidf(df[\"Lyrics\"])"
   ]
  },
  {
   "cell_type": "code",
   "execution_count": 9,
   "metadata": {},
   "outputs": [
    {
     "name": "stdout",
     "output_type": "stream",
     "text": [
      "\n",
      "\n",
      "Words head : \n",
      "                   term       rank\n",
      "645746  yeah yeah yeah  28.498167\n",
      "410905        oh oh oh  28.484290\n",
      "301403        la la la  23.208238\n",
      "268309       im gon na  20.740932\n",
      "133963     dont wan na  19.487283\n",
      "344356  love love love  15.096100\n",
      "386410        na na na  14.211914\n",
      "652317    youre gon na   9.176453\n",
      "420051     ooh ooh ooh   8.899066\n",
      "245582     hey hey hey   8.532843\n",
      "195364     get get get   8.179461\n",
      "296663  know know know   7.584384\n",
      "111138        da da da   6.955456\n",
      "602726      wan na see   6.626214\n",
      "213967        go go go   6.591068\n",
      "602483      wan na get   6.461345\n",
      "201868      get ta get   6.325765\n",
      "25340   baby baby baby   5.771073\n",
      "602561     wan na know   5.665868\n",
      "602487       wan na go   5.529008\n",
      "(656079, 2)\n"
     ]
    }
   ],
   "source": [
    "sums = X2.sum(axis = 0)\n",
    "data1 = []\n",
    "for col, term in enumerate(features):\n",
    "    data1.append( (term, sums[0,col] ))\n",
    "ranking = pd.DataFrame(data1, columns = ['term','rank'])\n",
    "words = (ranking.sort_values('rank', ascending = False))\n",
    "print (\"\\n\\nWords head : \\n\", words.head(20))\n",
    "print(words.shape)\n",
    "# print(words.iloc[-1])"
   ]
  },
  {
   "cell_type": "code",
   "execution_count": 12,
   "metadata": {},
   "outputs": [
    {
     "name": "stdout",
     "output_type": "stream",
     "text": [
      "\n",
      "\n",
      "Words head : \n",
      "              term       rank\n",
      "333683     wan na  65.845344\n",
      "123886     gon na  55.553097\n",
      "354036  yeah yeah  47.003206\n",
      "219800      oh oh  46.801576\n",
      "186199  love love  30.719693\n",
      "116934     get ta  30.326304\n",
      "78324   dont know  30.235423\n",
      "171860     let go  27.533514\n",
      "166147      la la  27.462363\n",
      "149951     im gon  23.295223\n",
      "78660    dont wan  21.144614\n",
      "115449    get get  19.042325\n",
      "208574      na na  18.503974\n",
      "78661   dont want  17.744826\n",
      "223353    ooh ooh  17.367188\n",
      "138476    hey hey  17.075650\n",
      "220223    oh yeah  16.845613\n",
      "98046   feel like  16.697503\n",
      "164798  know know  16.471167\n",
      "15079   baby baby  15.486473\n",
      "(358854, 2)\n"
     ]
    }
   ],
   "source": [
    "sums = X2_bigrams.sum(axis = 0)\n",
    "data2 = []\n",
    "for col, term in enumerate(features_bigram):\n",
    "    data2.append( (term, sums[0,col] ))\n",
    "ranking = pd.DataFrame(data2, columns = ['term','rank'])\n",
    "words = (ranking.sort_values('rank', ascending = False))\n",
    "print (\"\\n\\nWords head : \\n\", words.head(20))\n",
    "print(words.shape)"
   ]
  },
  {
   "cell_type": "code",
   "execution_count": null,
   "metadata": {},
   "outputs": [],
   "source": []
  }
 ],
 "metadata": {
  "kernelspec": {
   "display_name": "Python 3",
   "language": "python",
   "name": "python3"
  },
  "language_info": {
   "codemirror_mode": {
    "name": "ipython",
    "version": 3
   },
   "file_extension": ".py",
   "mimetype": "text/x-python",
   "name": "python",
   "nbconvert_exporter": "python",
   "pygments_lexer": "ipython3",
   "version": "3.8.3"
  }
 },
 "nbformat": 4,
 "nbformat_minor": 4
}
