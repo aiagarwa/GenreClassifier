{
 "cells": [
  {
   "cell_type": "code",
   "execution_count": 2,
   "metadata": {},
   "outputs": [],
   "source": [
    "import pandas as pd\n",
    "from sklearn.feature_extraction.text import CountVectorizer, TfidfVectorizer\n",
    "from nltk.collocations import BigramCollocationFinder as bigram_collocation\n",
    "from nltk.collocations import TrigramCollocationFinder as trigram_collocation\n",
    "from nltk.metrics import BigramAssocMeasures\n",
    "from nltk.metrics import TrigramAssocMeasures\n",
    "from nltk import corpus\n",
    "import nltk\n",
    "from statistics import mean"
   ]
  },
  {
   "cell_type": "code",
   "execution_count": 3,
   "metadata": {},
   "outputs": [],
   "source": [
    "import matplotlib.pyplot as plt\n",
    "\n",
    "from sklearn.feature_extraction.text import TfidfVectorizer\n",
    "\n",
    "from sklearn.feature_selection import chi2\n",
    "import numpy as np\n",
    "\n",
    "from sklearn.model_selection import train_test_split\n",
    "from sklearn.feature_extraction.text import CountVectorizer\n",
    "from sklearn.feature_extraction.text import TfidfTransformer\n",
    "from sklearn.naive_bayes import MultinomialNB\n",
    "\n",
    "from sklearn.linear_model import LogisticRegression\n",
    "from sklearn.ensemble import RandomForestClassifier\n",
    "from sklearn.svm import LinearSVC\n",
    "\n",
    "from sklearn.compose import ColumnTransformer\n",
    "from sklearn.pipeline import FeatureUnion\n",
    "from sklearn import preprocessing\n",
    "\n",
    "from sklearn.model_selection import cross_val_score\n",
    "\n",
    "from sklearn.preprocessing import MinMaxScaler\n",
    "\n",
    "import seaborn as sns"
   ]
  },
  {
   "cell_type": "code",
   "execution_count": 4,
   "metadata": {},
   "outputs": [
    {
     "data": {
      "text/html": [
       "<div>\n",
       "<style scoped>\n",
       "    .dataframe tbody tr th:only-of-type {\n",
       "        vertical-align: middle;\n",
       "    }\n",
       "\n",
       "    .dataframe tbody tr th {\n",
       "        vertical-align: top;\n",
       "    }\n",
       "\n",
       "    .dataframe thead th {\n",
       "        text-align: right;\n",
       "    }\n",
       "</style>\n",
       "<table border=\"1\" class=\"dataframe\">\n",
       "  <thead>\n",
       "    <tr style=\"text-align: right;\">\n",
       "      <th></th>\n",
       "      <th>Title</th>\n",
       "      <th>Artist</th>\n",
       "      <th>Featuring</th>\n",
       "      <th>Featured_Artist</th>\n",
       "      <th>Lyrics</th>\n",
       "      <th>Tags</th>\n",
       "      <th>Genre</th>\n",
       "    </tr>\n",
       "  </thead>\n",
       "  <tbody>\n",
       "    <tr>\n",
       "      <th>0</th>\n",
       "      <td>Bridge Over Troubled Water</td>\n",
       "      <td>Simon &amp; Garfunkel</td>\n",
       "      <td>0</td>\n",
       "      <td>Simon &amp; Garfunkel</td>\n",
       "      <td>youre weary feel small tear eye dry im side ti...</td>\n",
       "      <td>folk,classic rock,oldies</td>\n",
       "      <td>rock</td>\n",
       "    </tr>\n",
       "    <tr>\n",
       "      <th>1</th>\n",
       "      <td>American Woman</td>\n",
       "      <td>The Guess Who</td>\n",
       "      <td>0</td>\n",
       "      <td>The Guess Who</td>\n",
       "      <td>american woman gon na mess mind american woman...</td>\n",
       "      <td>classic rock,70s,rock</td>\n",
       "      <td>rock</td>\n",
       "    </tr>\n",
       "    <tr>\n",
       "      <th>2</th>\n",
       "      <td>War</td>\n",
       "      <td>Edwin Starr</td>\n",
       "      <td>0</td>\n",
       "      <td>Edwin Starr</td>\n",
       "      <td>war huh yeah ! good absolutely nothing uhuh wa...</td>\n",
       "      <td>r&amp;b,r&amp;b,motown</td>\n",
       "      <td>r&amp;b</td>\n",
       "    </tr>\n",
       "    <tr>\n",
       "      <th>3</th>\n",
       "      <td>Ain't No Mountain High Enough</td>\n",
       "      <td>Diana Ross</td>\n",
       "      <td>0</td>\n",
       "      <td>Diana Ross</td>\n",
       "      <td>need call matter matter far call name ill hurr...</td>\n",
       "      <td>r&amp;b,motown,70s</td>\n",
       "      <td>r&amp;b</td>\n",
       "    </tr>\n",
       "    <tr>\n",
       "      <th>4</th>\n",
       "      <td>I'll Be There</td>\n",
       "      <td>The Jackson 5</td>\n",
       "      <td>0</td>\n",
       "      <td>The Jackson 5</td>\n",
       "      <td>must make pact must bring salvation back love ...</td>\n",
       "      <td>motown,r&amp;b,70s</td>\n",
       "      <td>r&amp;b</td>\n",
       "    </tr>\n",
       "  </tbody>\n",
       "</table>\n",
       "</div>"
      ],
      "text/plain": [
       "                           Title             Artist  Featuring  \\\n",
       "0     Bridge Over Troubled Water  Simon & Garfunkel          0   \n",
       "1                 American Woman      The Guess Who          0   \n",
       "2                            War        Edwin Starr          0   \n",
       "3  Ain't No Mountain High Enough         Diana Ross          0   \n",
       "4                  I'll Be There      The Jackson 5          0   \n",
       "\n",
       "     Featured_Artist                                             Lyrics  \\\n",
       "0  Simon & Garfunkel  youre weary feel small tear eye dry im side ti...   \n",
       "1      The Guess Who  american woman gon na mess mind american woman...   \n",
       "2        Edwin Starr  war huh yeah ! good absolutely nothing uhuh wa...   \n",
       "3         Diana Ross  need call matter matter far call name ill hurr...   \n",
       "4      The Jackson 5  must make pact must bring salvation back love ...   \n",
       "\n",
       "                       Tags Genre  \n",
       "0  folk,classic rock,oldies  rock  \n",
       "1     classic rock,70s,rock  rock  \n",
       "2            r&b,r&b,motown   r&b  \n",
       "3            r&b,motown,70s   r&b  \n",
       "4            motown,r&b,70s   r&b  "
      ]
     },
     "execution_count": 4,
     "metadata": {},
     "output_type": "execute_result"
    }
   ],
   "source": [
    "df = pd.read_csv('../preprocessed_dataset.csv')\n",
    "df.head()"
   ]
  },
  {
   "cell_type": "code",
   "execution_count": 5,
   "metadata": {},
   "outputs": [],
   "source": [
    "bigram_score = []\n",
    "for i in range(len(df.index)):\n",
    "    mean_pmi = 0.0\n",
    "    pmi_bigram = []\n",
    "    text = df[\"Lyrics\"][i].split()\n",
    "    coll_bia=bigram_collocation.from_words(text)\n",
    "    coll_bia.apply_freq_filter(3)\n",
    "    bigram_freq = coll_bia.ngram_fd.items()\n",
    "    bigramFreqTable = pd.DataFrame(list(bigram_freq), columns=['bigram','freq']).sort_values(by='freq', ascending=False)\n",
    "#     coll_bia=bigram_collocation.from_words(text)\n",
    "#     coll_bia.apply_freq_filter(2)\n",
    "#     bigramPMITable = pd.DataFrame(list(coll_bia.score_ngrams(BigramAssocMeasures.pmi)), columns=['bigram','PMI']).sort_values(by='PMI', ascending=False)\n",
    "#     bigramPMITable\n",
    "#     if len(bigramPMITable.index.values) != 0:\n",
    "#         mean_pmi=mean(bigramPMITable[\"PMI\"])\n",
    "    if len(bigramFreqTable.index.values) != 0:\n",
    "        mean_pmi=mean(bigramFreqTable[\"freq\"])\n",
    "    bigram_score.append(mean_pmi)"
   ]
  },
  {
   "cell_type": "code",
   "execution_count": 6,
   "metadata": {},
   "outputs": [],
   "source": [
    "trigram_score = []\n",
    "for i in range(len(df.index)):\n",
    "    mean_pmi = 0.0\n",
    "    pmi_trigram = []\n",
    "    text = df[\"Lyrics\"][i].split()\n",
    "    coll_tri=trigram_collocation.from_words(text)\n",
    "    coll_tri.apply_freq_filter(3)\n",
    "    trigram_freq = coll_tri.ngram_fd.items()\n",
    "    trigramFreqTable = pd.DataFrame(list(trigram_freq), columns=['trigram','freq']).sort_values(by='freq', ascending=False)\n",
    "#     trigramPMITable = pd.DataFrame(list(coll_tri.score_ngrams(TrigramAssocMeasures.pmi)), columns=['trigram','PMI']).sort_values(by='PMI', ascending=False)\n",
    "#     trigramPMITable\n",
    "#     if len(trigramPMITable.index.values) != 0:\n",
    "#         mean_pmi=mean(trigramPMITable[\"PMI\"])\n",
    "    if len(trigramFreqTable.index.values) != 0:\n",
    "        mean_pmi=mean(trigramFreqTable[\"freq\"])\n",
    "    trigram_score.append(mean_pmi)"
   ]
  },
  {
   "cell_type": "code",
   "execution_count": 7,
   "metadata": {},
   "outputs": [
    {
     "name": "stdout",
     "output_type": "stream",
     "text": [
      "5373\n"
     ]
    }
   ],
   "source": [
    "print(len(trigram_score))"
   ]
  },
  {
   "cell_type": "code",
   "execution_count": 8,
   "metadata": {},
   "outputs": [],
   "source": [
    "y_output = []\n",
    "for item in df['Genre'] :\n",
    "    if item == 'rock' : \n",
    "        y_output.append(0)\n",
    "    elif item == 'r&b' :\n",
    "        y_output.append(1)\n",
    "    elif item == 'blues' :\n",
    "        y_output.append(2)\n",
    "    elif item == 'country' :\n",
    "        y_output.append(3)\n",
    "    elif item == 'edm' :\n",
    "        y_output.append(4) \n",
    "    elif item == 'rap' :\n",
    "        y_output.append(5)\n",
    "    elif item == 'pop' :\n",
    "        y_output.append(6)"
   ]
  },
  {
   "cell_type": "code",
   "execution_count": 9,
   "metadata": {},
   "outputs": [],
   "source": [
    "X = df.iloc[:,4].values.astype('U')\n",
    "d = {'Genre' : df['Genre'] , 'Lyrics' : X , 'Genre_ID' : y_output}\n",
    "df2 = pd.DataFrame(data = d)"
   ]
  },
  {
   "cell_type": "code",
   "execution_count": 10,
   "metadata": {},
   "outputs": [
    {
     "data": {
      "text/html": [
       "<div>\n",
       "<style scoped>\n",
       "    .dataframe tbody tr th:only-of-type {\n",
       "        vertical-align: middle;\n",
       "    }\n",
       "\n",
       "    .dataframe tbody tr th {\n",
       "        vertical-align: top;\n",
       "    }\n",
       "\n",
       "    .dataframe thead th {\n",
       "        text-align: right;\n",
       "    }\n",
       "</style>\n",
       "<table border=\"1\" class=\"dataframe\">\n",
       "  <thead>\n",
       "    <tr style=\"text-align: right;\">\n",
       "      <th></th>\n",
       "      <th>Genre</th>\n",
       "      <th>Lyrics</th>\n",
       "      <th>Genre_ID</th>\n",
       "    </tr>\n",
       "  </thead>\n",
       "  <tbody>\n",
       "    <tr>\n",
       "      <th>0</th>\n",
       "      <td>rock</td>\n",
       "      <td>youre weary feel small tear eye dry im side ti...</td>\n",
       "      <td>0</td>\n",
       "    </tr>\n",
       "    <tr>\n",
       "      <th>1</th>\n",
       "      <td>rock</td>\n",
       "      <td>american woman gon na mess mind american woman...</td>\n",
       "      <td>0</td>\n",
       "    </tr>\n",
       "    <tr>\n",
       "      <th>2</th>\n",
       "      <td>r&amp;b</td>\n",
       "      <td>war huh yeah ! good absolutely nothing uhuh wa...</td>\n",
       "      <td>1</td>\n",
       "    </tr>\n",
       "    <tr>\n",
       "      <th>3</th>\n",
       "      <td>r&amp;b</td>\n",
       "      <td>need call matter matter far call name ill hurr...</td>\n",
       "      <td>1</td>\n",
       "    </tr>\n",
       "    <tr>\n",
       "      <th>4</th>\n",
       "      <td>r&amp;b</td>\n",
       "      <td>must make pact must bring salvation back love ...</td>\n",
       "      <td>1</td>\n",
       "    </tr>\n",
       "  </tbody>\n",
       "</table>\n",
       "</div>"
      ],
      "text/plain": [
       "  Genre                                             Lyrics  Genre_ID\n",
       "0  rock  youre weary feel small tear eye dry im side ti...         0\n",
       "1  rock  american woman gon na mess mind american woman...         0\n",
       "2   r&b  war huh yeah ! good absolutely nothing uhuh wa...         1\n",
       "3   r&b  need call matter matter far call name ill hurr...         1\n",
       "4   r&b  must make pact must bring salvation back love ...         1"
      ]
     },
     "execution_count": 10,
     "metadata": {},
     "output_type": "execute_result"
    }
   ],
   "source": [
    "df2.head()"
   ]
  },
  {
   "cell_type": "code",
   "execution_count": 11,
   "metadata": {},
   "outputs": [],
   "source": [
    "tfidf = TfidfVectorizer(sublinear_tf=True, min_df=5, norm='l2', encoding='latin-1', ngram_range=(1, 2))"
   ]
  },
  {
   "cell_type": "code",
   "execution_count": 12,
   "metadata": {},
   "outputs": [
    {
     "data": {
      "text/html": [
       "<div>\n",
       "<style scoped>\n",
       "    .dataframe tbody tr th:only-of-type {\n",
       "        vertical-align: middle;\n",
       "    }\n",
       "\n",
       "    .dataframe tbody tr th {\n",
       "        vertical-align: top;\n",
       "    }\n",
       "\n",
       "    .dataframe thead th {\n",
       "        text-align: right;\n",
       "    }\n",
       "</style>\n",
       "<table border=\"1\" class=\"dataframe\">\n",
       "  <thead>\n",
       "    <tr style=\"text-align: right;\">\n",
       "      <th></th>\n",
       "      <th>Lyrics</th>\n",
       "      <th>Bigram</th>\n",
       "      <th>Trigram</th>\n",
       "    </tr>\n",
       "  </thead>\n",
       "  <tbody>\n",
       "    <tr>\n",
       "      <th>0</th>\n",
       "      <td>youre weary feel small tear eye dry im side ti...</td>\n",
       "      <td>5.500000</td>\n",
       "      <td>5.333333</td>\n",
       "    </tr>\n",
       "    <tr>\n",
       "      <th>1</th>\n",
       "      <td>american woman gon na mess mind american woman...</td>\n",
       "      <td>5.208333</td>\n",
       "      <td>4.400000</td>\n",
       "    </tr>\n",
       "    <tr>\n",
       "      <th>2</th>\n",
       "      <td>war huh yeah ! good absolutely nothing uhuh wa...</td>\n",
       "      <td>5.166667</td>\n",
       "      <td>4.125000</td>\n",
       "    </tr>\n",
       "    <tr>\n",
       "      <th>3</th>\n",
       "      <td>need call matter matter far call name ill hurr...</td>\n",
       "      <td>3.636364</td>\n",
       "      <td>3.714286</td>\n",
       "    </tr>\n",
       "    <tr>\n",
       "      <th>4</th>\n",
       "      <td>must make pact must bring salvation back love ...</td>\n",
       "      <td>3.333333</td>\n",
       "      <td>3.000000</td>\n",
       "    </tr>\n",
       "  </tbody>\n",
       "</table>\n",
       "</div>"
      ],
      "text/plain": [
       "                                              Lyrics    Bigram   Trigram\n",
       "0  youre weary feel small tear eye dry im side ti...  5.500000  5.333333\n",
       "1  american woman gon na mess mind american woman...  5.208333  4.400000\n",
       "2  war huh yeah ! good absolutely nothing uhuh wa...  5.166667  4.125000\n",
       "3  need call matter matter far call name ill hurr...  3.636364  3.714286\n",
       "4  must make pact must bring salvation back love ...  3.333333  3.000000"
      ]
     },
     "execution_count": 12,
     "metadata": {},
     "output_type": "execute_result"
    }
   ],
   "source": [
    "d2 = {'Lyrics' : df['Lyrics'] , 'Bigram' : bigram_score , 'Trigram' : trigram_score}\n",
    "df3 = pd.DataFrame(data = d2)\n",
    "df3.head()"
   ]
  },
  {
   "cell_type": "code",
   "execution_count": 13,
   "metadata": {},
   "outputs": [
    {
     "name": "stdout",
     "output_type": "stream",
     "text": [
      "(5373, 27061)\n"
     ]
    },
    {
     "data": {
      "text/plain": [
       "array([[0.        , 0.        , 0.        , ..., 0.        , 0.10679612,\n",
       "        0.0969697 ],\n",
       "       [0.        , 0.        , 0.        , ..., 0.        , 0.10113269,\n",
       "        0.08      ],\n",
       "       [0.        , 0.        , 0.        , ..., 0.        , 0.10032362,\n",
       "        0.075     ],\n",
       "       ...,\n",
       "       [0.        , 0.        , 0.        , ..., 0.        , 0.0802589 ,\n",
       "        0.06121212],\n",
       "       [0.        , 0.        , 0.        , ..., 0.        , 0.08543689,\n",
       "        0.06836364],\n",
       "       [0.        , 0.        , 0.        , ..., 0.        , 0.        ,\n",
       "        0.        ]])"
      ]
     },
     "execution_count": 13,
     "metadata": {},
     "output_type": "execute_result"
    }
   ],
   "source": [
    "features = tfidf.fit_transform(df2.Lyrics).toarray()\n",
    "print (features.shape)\n",
    "features = np.column_stack((features,bigram_score,trigram_score))\n",
    "scaler = preprocessing.MinMaxScaler()\n",
    "features_scaled = scaler.fit_transform(features)\n",
    "\n",
    "features_scaled"
   ]
  },
  {
   "cell_type": "code",
   "execution_count": 14,
   "metadata": {},
   "outputs": [
    {
     "data": {
      "text/plain": [
       "(5373, 27063)"
      ]
     },
     "execution_count": 14,
     "metadata": {},
     "output_type": "execute_result"
    }
   ],
   "source": [
    "labels = df2.Genre_ID\n",
    "features_scaled.shape"
   ]
  },
  {
   "cell_type": "code",
   "execution_count": 15,
   "metadata": {},
   "outputs": [],
   "source": [
    "X_train, X_test, y_train, y_test = train_test_split(df2['Lyrics'], df2['Genre'], random_state = 0)\n",
    "count_vect = CountVectorizer()\n",
    "X_train_counts = count_vect.fit_transform(X_train)\n",
    "tfidf_transformer = TfidfTransformer()\n",
    "X_train_tfidf = tfidf_transformer.fit_transform(X_train_counts)\n",
    "clf = MultinomialNB().fit(X_train_tfidf, y_train)"
   ]
  },
  {
   "cell_type": "code",
   "execution_count": 16,
   "metadata": {},
   "outputs": [
    {
     "data": {
      "image/png": "[encoded data removed]",
      "text/plain": [
       "<Figure size 432x288 with 1 Axes>"
      ]
     },
     "metadata": {
      "needs_background": "light"
     },
     "output_type": "display_data"
    }
   ],
   "source": [
    "models = [\n",
    "    RandomForestClassifier(n_estimators=200, max_depth=3, random_state=0),\n",
    "    LinearSVC(max_iter=5000),\n",
    "    MultinomialNB(),\n",
    "    LogisticRegression(random_state=0,max_iter=600),\n",
    "]\n",
    "CV = 5\n",
    "cv_df = pd.DataFrame(index=range(CV * len(models)))\n",
    "entries = []\n",
    "for model in models:\n",
    "    model_name = model.__class__.__name__\n",
    "    accuracies = cross_val_score(model, features_scaled, labels, scoring='accuracy', cv=CV)\n",
    "    for fold_idx, accuracy in enumerate(accuracies):\n",
    "        entries.append((model_name, fold_idx, accuracy))\n",
    "cv_df = pd.DataFrame(entries, columns=['model_name', 'fold_idx', 'accuracy'])\n",
    "\n",
    "sns.boxplot(x='model_name', y='accuracy', data=cv_df)\n",
    "sns.stripplot(x='model_name', y='accuracy', data=cv_df, \n",
    "              size=8, jitter=True, edgecolor=\"gray\", linewidth=2)\n",
    "plt.show()"
   ]
  },
  {
   "cell_type": "code",
   "execution_count": 17,
   "metadata": {},
   "outputs": [
    {
     "data": {
      "text/plain": [
       "model_name\n",
       "LinearSVC                 0.413736\n",
       "LogisticRegression        0.440721\n",
       "MultinomialNB             0.431419\n",
       "RandomForestClassifier    0.356039\n",
       "Name: accuracy, dtype: float64"
      ]
     },
     "execution_count": 17,
     "metadata": {},
     "output_type": "execute_result"
    }
   ],
   "source": [
    "cv_df.groupby('model_name').accuracy.mean()"
   ]
  },
  {
   "cell_type": "code",
   "execution_count": 18,
   "metadata": {},
   "outputs": [
    {
     "data": {
      "image/png": "[encoded data removed]",
      "text/plain": [
       "<Figure size 720x720 with 2 Axes>"
      ]
     },
     "metadata": {
      "needs_background": "light"
     },
     "output_type": "display_data"
    }
   ],
   "source": [
    "model = LogisticRegression(max_iter=600)\n",
    "X_train, X_test, y_train, y_test, indices_train, indices_test = train_test_split(features_scaled, labels, df.index, test_size=0.33, random_state=0)\n",
    "model.fit(X_train, y_train)\n",
    "y_pred = model.predict(X_test)\n",
    "from sklearn.metrics import confusion_matrix\n",
    "conf_mat = confusion_matrix(y_test, y_pred)\n",
    "fig, ax = plt.subplots(figsize=(10,10))\n",
    "sns.heatmap(conf_mat, annot=True, fmt='d',\n",
    "            xticklabels=list(df2['Genre'].drop_duplicates()), yticklabels=list(df2['Genre'].drop_duplicates()))\n",
    "plt.ylabel('Actual')\n",
    "plt.xlabel('Predicted')\n",
    "plt.show()"
   ]
  },
  {
   "cell_type": "code",
   "execution_count": 19,
   "metadata": {},
   "outputs": [
    {
     "name": "stdout",
     "output_type": "stream",
     "text": [
      "              precision    recall  f1-score   support\n",
      "\n",
      "        rock       0.35      0.43      0.38       310\n",
      "         r&b       0.41      0.43      0.42       258\n",
      "       blues       0.49      0.44      0.47       242\n",
      "     country       0.48      0.41      0.44       201\n",
      "         edm       0.60      0.33      0.43       174\n",
      "         rap       0.76      0.77      0.76       284\n",
      "         pop       0.34      0.40      0.37       305\n",
      "\n",
      "    accuracy                           0.47      1774\n",
      "   macro avg       0.49      0.46      0.47      1774\n",
      "weighted avg       0.48      0.47      0.47      1774\n",
      "\n"
     ]
    }
   ],
   "source": [
    "from sklearn import metrics\n",
    "print(metrics.classification_report(y_test, y_pred, target_names=df['Genre'].unique()))"
   ]
  },
  {
   "cell_type": "code",
   "execution_count": null,
   "metadata": {},
   "outputs": [],
   "source": []
  }
 ],
 "metadata": {
  "kernelspec": {
   "display_name": "Python 3",
   "language": "python",
   "name": "python3"
  },
  "language_info": {
   "codemirror_mode": {
    "name": "ipython",
    "version": 3
   },
   "file_extension": ".py",
   "mimetype": "text/x-python",
   "name": "python",
   "nbconvert_exporter": "python",
   "pygments_lexer": "ipython3",
   "version": "3.8.3"
  }
 },
 "nbformat": 4,
 "nbformat_minor": 4
}
