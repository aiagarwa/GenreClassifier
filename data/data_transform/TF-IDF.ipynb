{
 "cells": [
  {
   "cell_type": "code",
   "execution_count": 34,
   "metadata": {},
   "outputs": [],
   "source": [
    "import pandas as pd\n",
    "import numpy as np\n",
    "import csv\n",
    "from nltk import word_tokenize\n",
    "import matplotlib.pyplot as plt\n",
    "\n",
    "from sklearn.model_selection import train_test_split\n",
    "from sklearn.feature_extraction.text import TfidfVectorizer\n",
    "from sklearn.neighbors import KNeighborsClassifier"
   ]
  },
  {
   "cell_type": "code",
   "execution_count": 12,
   "metadata": {},
   "outputs": [],
   "source": [
    "data = pd.read_csv('dataset.csv')\n",
    "X = data.iloc[:,4].values.astype('U')\n",
    "for i in range(5545):\n",
    "    X[i] = str.lower(X[i])"
   ]
  },
  {
   "cell_type": "code",
   "execution_count": 16,
   "metadata": {},
   "outputs": [],
   "source": [
    "y_output = []\n",
    "for item in data['Genre'] :\n",
    "    if item == 'rock' : \n",
    "        y_output.append(0)\n",
    "    elif item == 'r&b' :\n",
    "        y_output.append(1)\n",
    "    elif item == 'blues' :\n",
    "        y_output.append(2)\n",
    "    elif item == 'country' :\n",
    "        y_output.append(3)\n",
    "    elif item == 'edm' :\n",
    "        y_output.append(4) \n",
    "    elif item == 'rap' :\n",
    "        y_output.append(5)\n",
    "    elif item == 'pop' :\n",
    "        y_output.append(6)"
   ]
  },
  {
   "cell_type": "code",
   "execution_count": 40,
   "metadata": {},
   "outputs": [],
   "source": [
    "def tf_idf_cross_val(k , min_df , max_df , X_input , y_output) :\n",
    "    vectorizer = TfidfVectorizer(max_df=max_df , min_df=min_df)\n",
    "    X_fit = vectorizer.fit_transform(X_input)\n",
    "    model = KNeighborsClassifier(n_neighbors= k , weights='uniform')\n",
    "    kf = sk.model_selection.KFold(n_splits=10)\n",
    "    accuracy = []\n",
    "    for train , test in kf.split(X_fit) : \n",
    "        model.fit(X_fit[train] , y_output[train])\n",
    "        ypred = model.predict(X_fit[test])\n",
    "        accuracy.append(sk.metrics.accuracy_score(y_output[test] , ypred))\n",
    "\n",
    "    return np.array(accuracy).mean() , np.array(accuracy).std()"
   ]
  },
  {
   "cell_type": "code",
   "execution_count": 45,
   "metadata": {},
   "outputs": [],
   "source": [
    "vectorizer = TfidfVectorizer(max_df=max_df , min_df=min_df)\n",
    "X_fit = vectorizer.fit_transform(X)"
   ]
  },
  {
   "cell_type": "code",
   "execution_count": 47,
   "metadata": {},
   "outputs": [
    {
     "data": {
      "text/plain": [
       "array([[0.        , 0.16562587, 0.13112279, ..., 0.        , 0.21555418,\n",
       "        0.39219823],\n",
       "       [0.        , 0.        , 0.        , ..., 0.        , 0.29663222,\n",
       "        0.42056006],\n",
       "       [0.11520707, 0.16942224, 0.09580593, ..., 0.09560569, 0.01889957,\n",
       "        0.        ],\n",
       "       ...,\n",
       "       [0.        , 0.03447337, 0.06822975, ..., 0.02269571, 0.52492575,\n",
       "        0.0349852 ],\n",
       "       [0.04886426, 0.        , 0.08533436, ..., 0.        , 0.27655609,\n",
       "        0.        ],\n",
       "       [0.        , 0.16022605, 0.06342393, ..., 0.        , 0.25023188,\n",
       "        0.16260495]])"
      ]
     },
     "execution_count": 47,
     "metadata": {},
     "output_type": "execute_result"
    }
   ],
   "source": [
    "X_fit.toarray()"
   ]
  },
  {
   "cell_type": "code",
   "execution_count": 42,
   "metadata": {},
   "outputs": [],
   "source": [
    "accuracy_all = []\n",
    "std_error_all = []\n",
    "min_range = np.linspace(0,0.3,6)\n",
    "max_range = np.linspace(0,1,11)\n",
    "for max_df in max_range :\n",
    "    accuracy = []\n",
    "    std_error = []\n",
    "    for min_df in min_range :\n",
    "        try :\n",
    "            output = tf_ifd_cross_val(5, min_df , max_df , X , y_output)\n",
    "            accuracy.append(output[0])\n",
    "            std_error.append(output[1])\n",
    "        except : \n",
    "            accuracy.append(0)\n",
    "            std_error.append(0)\n",
    "    accuracy_all.append([accuracy , max_df])\n",
    "    std_error_all.append([std_error , max_df])"
   ]
  },
  {
   "cell_type": "code",
   "execution_count": 43,
   "metadata": {},
   "outputs": [
    {
     "data": {
      "image/png": "[encoded data removed]",
      "text/plain": [
       "<Figure size 576x360 with 1 Axes>"
      ]
     },
     "metadata": {
      "needs_background": "light"
     },
     "output_type": "display_data"
    }
   ],
   "source": [
    "fig , ax = plt.subplots(figsize = (8,5))\n",
    "for item1,item2 in zip(accuracy_all, std_error_all) : \n",
    "    plt.plot(min_range , item1[0] , label = 'max_df = %1.2f' % item1[1] , linestyle = 'dotted')\n",
    "    for i in range(len(min_range)) : \n",
    "        ax.errorbar(min_range[i] , item1[0][i] , yerr=item2[0][i] , ecolor='r')\n",
    "        \n",
    "plt.legend(bbox_to_anchor=(1.04,1), loc=\"upper left\")\n",
    "plt.ylabel('Accuracy')\n",
    "plt.xlabel('Min DF')\n",
    "plt.title('TF-IDF Cross-Validation')\n",
    "plt.grid()"
   ]
  },
  {
   "cell_type": "code",
   "execution_count": 44,
   "metadata": {},
   "outputs": [
    {
     "ename": "NameError",
     "evalue": "name 'sk' is not defined",
     "output_type": "error",
     "traceback": [
      "\u001b[0;31m---------------------------------------------------------------------------\u001b[0m",
      "\u001b[0;31mNameError\u001b[0m                                 Traceback (most recent call last)",
      "\u001b[0;32m<ipython-input-44-def1afdc71af>\u001b[0m in \u001b[0;36m<module>\u001b[0;34m\u001b[0m\n\u001b[0;32m----> 1\u001b[0;31m \u001b[0mtf_ifd_cross_val\u001b[0m\u001b[0;34m(\u001b[0m\u001b[0;36m5\u001b[0m\u001b[0;34m,\u001b[0m \u001b[0mmin_df\u001b[0m \u001b[0;34m,\u001b[0m \u001b[0mmax_df\u001b[0m \u001b[0;34m,\u001b[0m \u001b[0mX\u001b[0m \u001b[0;34m,\u001b[0m \u001b[0my_output\u001b[0m\u001b[0;34m)\u001b[0m\u001b[0;34m\u001b[0m\u001b[0;34m\u001b[0m\u001b[0m\n\u001b[0m",
      "\u001b[0;32m<ipython-input-30-1d230a21cd94>\u001b[0m in \u001b[0;36mtf_ifd_cross_val\u001b[0;34m(k, min_df, max_df, X_input, y_output)\u001b[0m\n\u001b[1;32m      3\u001b[0m     \u001b[0mX_fit\u001b[0m \u001b[0;34m=\u001b[0m \u001b[0mvectorizer\u001b[0m\u001b[0;34m.\u001b[0m\u001b[0mfit_transform\u001b[0m\u001b[0;34m(\u001b[0m\u001b[0mX_input\u001b[0m\u001b[0;34m)\u001b[0m\u001b[0;34m\u001b[0m\u001b[0;34m\u001b[0m\u001b[0m\n\u001b[1;32m      4\u001b[0m     \u001b[0mmodel\u001b[0m \u001b[0;34m=\u001b[0m \u001b[0mKNeighborsClassifier\u001b[0m\u001b[0;34m(\u001b[0m\u001b[0mn_neighbors\u001b[0m\u001b[0;34m=\u001b[0m \u001b[0mk\u001b[0m \u001b[0;34m,\u001b[0m \u001b[0mweights\u001b[0m\u001b[0;34m=\u001b[0m\u001b[0;34m'uniform'\u001b[0m\u001b[0;34m)\u001b[0m\u001b[0;34m\u001b[0m\u001b[0;34m\u001b[0m\u001b[0m\n\u001b[0;32m----> 5\u001b[0;31m     \u001b[0mkf\u001b[0m \u001b[0;34m=\u001b[0m \u001b[0msk\u001b[0m\u001b[0;34m.\u001b[0m\u001b[0mmodel_selection\u001b[0m\u001b[0;34m.\u001b[0m\u001b[0mKFold\u001b[0m\u001b[0;34m(\u001b[0m\u001b[0mn_splits\u001b[0m\u001b[0;34m=\u001b[0m\u001b[0;36m10\u001b[0m\u001b[0;34m)\u001b[0m\u001b[0;34m\u001b[0m\u001b[0;34m\u001b[0m\u001b[0m\n\u001b[0m\u001b[1;32m      6\u001b[0m     \u001b[0maccuracy\u001b[0m \u001b[0;34m=\u001b[0m \u001b[0;34m[\u001b[0m\u001b[0;34m]\u001b[0m\u001b[0;34m\u001b[0m\u001b[0;34m\u001b[0m\u001b[0m\n\u001b[1;32m      7\u001b[0m     \u001b[0;32mfor\u001b[0m \u001b[0mtrain\u001b[0m \u001b[0;34m,\u001b[0m \u001b[0mtest\u001b[0m \u001b[0;32min\u001b[0m \u001b[0mkf\u001b[0m\u001b[0;34m.\u001b[0m\u001b[0msplit\u001b[0m\u001b[0;34m(\u001b[0m\u001b[0mX_fit\u001b[0m\u001b[0;34m)\u001b[0m \u001b[0;34m:\u001b[0m\u001b[0;34m\u001b[0m\u001b[0;34m\u001b[0m\u001b[0m\n",
      "\u001b[0;31mNameError\u001b[0m: name 'sk' is not defined"
     ]
    }
   ],
   "source": [
    "tf_ifd_cross_val(5, min_df , max_df , X , y_output)"
   ]
  },
  {
   "cell_type": "code",
   "execution_count": null,
   "metadata": {},
   "outputs": [],
   "source": []
  }
 ],
 "metadata": {
  "kernelspec": {
   "display_name": "Python 3",
   "language": "python",
   "name": "python3"
  },
  "language_info": {
   "codemirror_mode": {
    "name": "ipython",
    "version": 3
   },
   "file_extension": ".py",
   "mimetype": "text/x-python",
   "name": "python",
   "nbconvert_exporter": "python",
   "pygments_lexer": "ipython3",
   "version": "3.8.3"
  }
 },
 "nbformat": 4,
 "nbformat_minor": 4
}
